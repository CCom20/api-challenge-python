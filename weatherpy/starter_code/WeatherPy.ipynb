{
 "cells": [
  {
   "cell_type": "markdown",
   "metadata": {},
   "source": [
    "# WeatherPy\n",
    "----\n",
    "\n",
    "#### Note\n",
    "* Instructions have been included for each segment. You do not have to follow them exactly, but they are included to help you think through the steps."
   ]
  },
  {
   "cell_type": "code",
   "execution_count": 89,
   "metadata": {
    "scrolled": true
   },
   "outputs": [],
   "source": [
    "# Dependencies and Setup\n",
    "import matplotlib.pyplot as plt\n",
    "import pandas as pd\n",
    "import numpy as np\n",
    "import requests\n",
    "import time\n",
    "from scipy.stats import linregress\n",
    "from pprint import pprint\n",
    "from config import weather_api_key, gkey\n",
    "from citipy import citipy\n",
    "\n",
    "# Output File (CSV)\n",
    "output_data_file = \"output_data/cities.csv\"\n",
    "\n",
    "# Range of latitudes and longitudes\n",
    "lat_range = (-90, 90)\n",
    "lng_range = (-180, 180)"
   ]
  },
  {
   "cell_type": "markdown",
   "metadata": {},
   "source": [
    "## Generate Cities List"
   ]
  },
  {
   "cell_type": "code",
   "execution_count": 102,
   "metadata": {},
   "outputs": [
    {
     "data": {
      "text/plain": [
       "631"
      ]
     },
     "execution_count": 102,
     "metadata": {},
     "output_type": "execute_result"
    }
   ],
   "source": [
    "# List for holding lat_lngs and cities\n",
    "lat_lngs = []\n",
    "cities = []\n",
    "\n",
    "# Create a set of random lat and lng combinations\n",
    "lats = np.random.uniform(lat_range[0], lat_range[1], size=1500)\n",
    "lngs = np.random.uniform(lng_range[0], lng_range[1], size=1500)\n",
    "lat_lngs = zip(lats, lngs)\n",
    "\n",
    "# Identify nearest city for each lat, lng combination\n",
    "for lat_lng in lat_lngs:\n",
    "    city = citipy.nearest_city(lat_lng[0], lat_lng[1]).city_name\n",
    "    \n",
    "    # If the city is unique, then add it to a our cities list\n",
    "    if city not in cities:\n",
    "        cities.append(city)\n",
    "\n",
    "# Print the city count to confirm sufficient count\n",
    "len(cities)"
   ]
  },
  {
   "cell_type": "code",
   "execution_count": 103,
   "metadata": {},
   "outputs": [
    {
     "name": "stdout",
     "output_type": "stream",
     "text": [
      "['Punta Arenas', 'Barentsburg', 'Esperance', 'Yellowknife', 'Busselton', 'Hasaki', 'Cherskiy', 'Aksarka', 'Georgetown', 'Phan Rang', 'Tasiilaq', 'Hermanus', 'Sedalia', 'Kahului', 'Bokoro', 'Ushuaia', 'Nizhneyansk', 'Grindavik', 'New Norfolk', 'Acapulco', 'Cabo San Lucas', 'Puerto Ayora', 'Hilo', 'Ribeira Grande', 'Mocuba', 'Yuzhno-Yeniseyskiy', 'Makakilo City', 'Barbar', 'Klaksvik', 'Torbay', 'Pitsunda', 'Mataura', 'Inhambane', 'Chuy', 'Olkhovka', 'Richards Bay', 'Kapaa', 'Upernavik', 'Cap Malheureux', 'Sovetskiy', 'Souillac', 'Nikolskoye', 'Cape Town', 'Colares', 'Palabuhanratu', 'Tezu', 'Bridgetown', 'Atar', 'Thompson', 'Arraial Do Cabo', 'Grand Baie', 'Tilichiki', 'Rikitea', 'Ust-Tsilma', 'Bredasdorp', 'Urucui', 'Artyk', 'Vaini', 'Dunedin', 'Paamiut', 'La Palma', 'Nizhniy Kuranakh', 'Atuona', 'Yilan', 'Dargaville', 'Kaitangata', 'Pevek', 'Parrita', 'Dharchula', 'Taolanaro', 'Kushima', 'Zhigansk', 'Amantea', 'Fairbanks', 'Sorvag', 'Dikson', 'Carnarvon', 'Amderma', 'Caravelas', 'Gravdal', 'Khatanga', 'Bluff', 'Qaanaaq', 'Mar Del Plata', 'Bandarbeyla', 'Sentyabrskiy', 'Airai', 'Saskylakh', 'Chokurdakh', 'Quatre Cocos', 'Bethel', 'Benghazi', 'East London', 'Margate', 'Kantilo', 'Pangnirtung', 'Pisco', 'Pachino', 'Sitka', 'Flin Flon', 'Albany', 'Tiksi', 'Port Elizabeth', 'Millbrook', 'Vaovai', 'Yichun', 'Severo-Kurilsk', 'Bengkulu', 'Jamestown', 'Uroteppa', 'Rio Grande', 'Gat', 'Elverum', 'Dhangadhi', 'Ponezhukay', 'Ereymentau', 'Kodiak', 'Marcona', 'Mufulira', 'Dubbo', 'Ponta Do Sol', 'Cairns', 'Saint-Francois', 'Castro', 'Qasigiannguit', 'Kununurra', 'Port Hardy', 'Kavaratti', 'Barrow', 'Sao Miguel Do Araguaia', 'Bambous Virieux', 'Batagay-Alyta', 'Puerto Madero', 'Saint Anthony', 'Fortuna', 'Illoqqortoormiut', 'Guerrero Negro', 'Luderitz', 'Santa Cruz', 'Pokhara', 'Majdanpek', 'Nelson Bay', 'Iqaluit', 'Chapais', 'Berlevag', 'Cibeureum', 'Hobyo', 'Tuktoyaktuk', 'Lompoc', 'Yanan', 'Olga', 'Hithadhoo', 'High Level', 'Riviere-Au-Renard', 'Nandigama', 'The Valley', 'Jayuya', 'Lebu', 'Port Lincoln', 'Port Alfred', 'Grand River South East', 'Campo Maior', 'Moerai', 'Saint George', 'Sao Filipe', 'Ambilobe', 'Houma', 'Luanda', 'Luangwa', 'Morondava', 'Bud', 'Rafaela', 'Vao', 'Bongaree', 'Kimbe', 'Tingrela', 'Gemena', 'Vaitupu', 'Henties Bay', 'Tsihombe', 'Treinta Y Tres', 'Butaritari', 'Mengcheng', 'Moree', 'Kuche', 'Mogadishu', 'Lagoa', 'Ravar', 'Roald', 'Salalah', 'Charleville-Mezieres', 'Benjamin Hill', 'Preobrazheniye', 'Grand Gaube', 'Leo', 'Santa Rita', 'Kozhva', 'San Quintin', 'Hammerfest', 'Vostok', 'Mayskiy', 'Avarua', 'Sobolevo', 'Winnemucca', 'Itacoatiara', 'Vila Velha', 'Arman', 'Hobart', 'Mwinilunga', 'Baruun-Urt', 'Kavieng', 'Malwan', 'Novikovo', 'Boma', 'Bam', 'Rio Gallegos', 'Komsomolskiy', 'Neosho', 'Mount Gambier', 'Yirol', 'Taoudenni', 'Beringovskiy', 'Qaqortoq', 'Mys Shmidta', 'Peleduy', 'Abu Samrah', 'Padang', 'Fushun', 'Teberda', 'Nouadhibou', 'Mushie', 'Buraydah', 'Isangel', 'Faanui', 'Victoria', 'Andilamena', 'Balagon', 'Kruisfontein', 'Saldanha', 'Samarai', 'Molina', 'Matadi', 'Goteborg', 'Coihaique', 'Attawapiskat', 'Navoloki', 'Nantucket', 'Cabedelo', 'Westport', 'Marinette', 'Hofn', 'Sinjai', 'Nanortalik', 'Paracatu', 'Borgarnes', 'Acajutla', 'Provideniya', 'Yanam', 'Rundu', 'Barreirinhas', 'Carquefou', 'Belushya Guba', 'Ancud', 'Jumla', 'Curuca', 'Phan Thiet', 'Rurrenabaque', 'Novyy Urengoy', 'At-Bashi', 'Saint-Philippe', 'Tigil', 'Baykit', 'Korla', 'Katsuura', 'Norsup', 'Ekhabi', 'Laguna', 'Puerto Madryn', 'Chagda', 'Sarkand', 'Cornelio Procopio', 'Krasnoye', 'Meadow Lake', 'Half Moon Bay', 'Srednekolymsk', 'Norman Wells', 'Siilinjarvi', 'Aykhal', 'Marsabit', 'Soresina', 'Toda Bhim', 'Parabel', 'Coquimbo', 'Ler', 'Rodino', 'Port Shepstone', 'Esil', 'Williams Lake', 'Ilhabela', 'Abu Dhabi', 'Mahibadhoo', 'Boras', 'Rapid Valley', 'Asfi', 'Bathsheba', 'Ojinaga', 'Mahebourg', 'Gwanda', 'Abha', 'Chabahar', 'Ikalamavony', 'Rudnya', 'Taitung', 'Jalu', 'San Felipe', 'Novoagansk', 'Atasu', 'Eyl', 'Hailey', 'Anloga', 'Payo', 'Passos', 'Saint-Augustin', 'Peniche', 'Gornopravdinsk', 'Bowen', 'Umm Kaddadah', 'Vieste', 'Hiriyur', 'Chipaque', 'Halacho', 'Bilibino', 'North Bend', 'Latur', 'Hvammstangi', 'Banda Aceh', 'Ixtapa', 'Pombas', 'Lorengau', 'Olafsvik', 'Nacozari', 'Tual', 'Zhob', 'Praia Da Vitoria', 'Ngukurr', 'Gao', 'Tornio', 'San Patricio', 'Diamantino', 'Talnakh', 'Necochea', 'Kamaishi', 'Ahuimanu', 'Alice Town', 'Allapalli', 'Batman', 'Raudeberg', 'Kholm', 'Mehamn', 'Juneau', 'Pirapemas', 'Whitianga', 'Adrar', 'Namibe', 'Aklavik', 'Alice Springs', 'Fare', 'Wewak', 'Umm Lajj', 'Ust-Kamchatsk', 'Ilulissat', 'Mouila', 'Buchanan', 'Ayan', 'Tubuala', 'Verkhnedneprovskiy', 'Williston', 'Chernyshevskiy', 'Umm Durman', 'Tabou', 'Jibuti', 'Wah', 'Poum', 'Cockburn Harbour', 'Karratha', 'Elko', 'Maine-Soroa', 'Vestmannaeyjar', 'Thinadhoo', 'Soyo', 'Hihifo', 'Aitape', 'Praya', 'Port Augusta', 'Key Largo', 'La Paz', 'Bonthe', 'Najran', 'Alofi', 'Yuci', 'Huesca', 'Bandundu', 'Cidreira', 'Chumikan', 'Mbigou', 'Geraldton', 'Pucara', 'Paita', 'Bandar', 'Port-Gentil', 'Yarmouth', 'Araouane', 'Pangkalanbuun', 'Butterworth', 'Mbandaka', 'Sambava', 'Kapit', 'Deputatskiy', 'Beloha', 'Barmer', 'Tonj', 'Cabinda', 'Leningradskiy', 'Sistranda', 'Banswara', 'Vanino', 'Reutte', 'Morelia', 'Vardo', 'Teeli', 'Barawe', 'Manokwari', 'Irbeyskoye', 'Ijaki', 'Tiznit', 'Ukiah', 'Sur', 'Hambantota', 'Urumqi', 'Linkoping', 'Touros', 'Port Moresby', 'Verkhnebakanskiy', 'Veraval', 'Kangaatsiaq', 'Mezhdurechensk', 'Codrington', 'Egvekinot', 'Eenhana', 'The Pas', 'Raga', 'Muroto', 'Prince Albert', 'Magan', 'Okhotsk', 'Nemuro', 'Panaba', 'Yumen', 'Nishihara', 'Deshna', 'Den Helder', 'Thunder Bay', 'Zarcero', 'Jesup', 'Asau', 'Naze', 'Kasama', 'Tucuman', 'Kutina', 'Mugur-Aksy', 'Rabat', 'Narsaq', 'Qujing', 'Ugoofaaru', 'Morro Bay', 'Rabo De Peixe', 'Russkaya Polyana', 'Dongsheng', 'Sierre', 'Awbari', 'Bhind', 'Tapaua', 'Beira', 'Natalinsk', 'Kieta', 'College', 'Krasnyy Tkach', 'Varzob', 'Kailua', 'Honiara', 'Tidore', 'Hamilton', 'Khonuu', 'Linchuan', 'Hualmay', 'Bilma', 'Pascagoula', 'Lazaro Cardenas', 'Dakar', 'Ulladulla', 'Alpena', 'Nguiu', 'San Roque', 'Rovaniemi', 'Bubaque', 'Taltal', 'Sao Felix Do Xingu', 'Nome', 'Christchurch', 'Fevralsk', 'Brae', 'Salmas', 'Mutsamudu', 'Gurskoye', 'Ystad', 'Sulangan', 'Great Yarmouth', 'El Balsamo', 'Whitehorse', 'Vientiane', 'Yulara', 'Odweyne', 'Iquitos', 'Bukoba', 'Disna', 'Quchan', 'Barranca', 'Sidi Bu Zayd', 'Khandyga', 'Warrington', 'Kamiiso', 'Fort Saint John', 'Rudsar', 'Marawi', 'Catamarca', 'Eldikan', 'Makungu', 'Longyearbyen', 'Astoria', 'Asamankese', 'Omboue', 'Khandbari', 'Rapallo', 'Ivdel', 'Kuryk', 'Tra Vinh', 'Ajdabiya', 'Omis', 'Barreiras', 'Fenoarivo', 'Piltene', 'Goure', 'Gogrial', 'Bentiu', 'Presidencia Roque Saenz Pena', 'Kemijarvi', 'Tumannyy', 'Kurush', 'Ostrovnoy', 'Batticaloa', 'Saleaula', 'Chiang Rai', 'Imbituba', 'Wajima', 'Verkhnevilyuysk', 'Iracoubo', 'Sokolo', 'Sao Joao Da Barra', 'Adre', 'Thyboron', 'Corinto', 'Shenjiamen', 'Agadez', 'Kendari', 'Tuatapere', 'Yar-Sale', 'Liverpool', 'Khani', 'Kanakapura', 'San Jorge', 'Clearlake', 'Tessalit', 'Louisbourg', 'Andenes', 'Labuhan', 'Delvada', 'Muyezerskiy', 'Churapcha', 'Umzimvubu', 'Fos-Sur-Mer', 'Cayenne', 'Tasbuget', 'Muravlenko', 'San Pedro', 'Kazalinsk', 'Jasper', 'Leh', 'Antofagasta', 'Nizwa', 'Belmonte', 'Cabo Rojo', 'Majene', 'Aswan', 'Morwell', 'Muisne', 'Tabiauea', 'Svetlogorsk', 'Chhuikhadan', 'Clyde River', 'Kyakhta', 'Arandis', 'Gavle', 'Maanshan', 'Loreto', 'Dujuma', 'Pangody', 'Cervo', 'Lata', 'Severodvinsk', 'Puro', 'Dreux', 'Alyangula', 'Atherton', 'Samana', 'North Branch', 'Havelock', 'San Alberto', 'Karasburg', 'Lavrentiya', 'Nyurba', 'Faya']\n"
     ]
    }
   ],
   "source": [
    "cities_list = []\n",
    "for city in cities: \n",
    "    cities_list.append(city.title())\n",
    "    \n",
    "print(cities_list)"
   ]
  },
  {
   "cell_type": "code",
   "execution_count": 116,
   "metadata": {},
   "outputs": [
    {
     "data": {
      "text/html": [
       "<div>\n",
       "<style scoped>\n",
       "    .dataframe tbody tr th:only-of-type {\n",
       "        vertical-align: middle;\n",
       "    }\n",
       "\n",
       "    .dataframe tbody tr th {\n",
       "        vertical-align: top;\n",
       "    }\n",
       "\n",
       "    .dataframe thead th {\n",
       "        text-align: right;\n",
       "    }\n",
       "</style>\n",
       "<table border=\"1\" class=\"dataframe\">\n",
       "  <thead>\n",
       "    <tr style=\"text-align: right;\">\n",
       "      <th></th>\n",
       "      <th>City</th>\n",
       "    </tr>\n",
       "  </thead>\n",
       "  <tbody>\n",
       "    <tr>\n",
       "      <th>0</th>\n",
       "      <td>Punta Arenas</td>\n",
       "    </tr>\n",
       "    <tr>\n",
       "      <th>1</th>\n",
       "      <td>Barentsburg</td>\n",
       "    </tr>\n",
       "    <tr>\n",
       "      <th>2</th>\n",
       "      <td>Esperance</td>\n",
       "    </tr>\n",
       "    <tr>\n",
       "      <th>3</th>\n",
       "      <td>Yellowknife</td>\n",
       "    </tr>\n",
       "    <tr>\n",
       "      <th>4</th>\n",
       "      <td>Busselton</td>\n",
       "    </tr>\n",
       "    <tr>\n",
       "      <th>...</th>\n",
       "      <td>...</td>\n",
       "    </tr>\n",
       "    <tr>\n",
       "      <th>626</th>\n",
       "      <td>San Alberto</td>\n",
       "    </tr>\n",
       "    <tr>\n",
       "      <th>627</th>\n",
       "      <td>Karasburg</td>\n",
       "    </tr>\n",
       "    <tr>\n",
       "      <th>628</th>\n",
       "      <td>Lavrentiya</td>\n",
       "    </tr>\n",
       "    <tr>\n",
       "      <th>629</th>\n",
       "      <td>Nyurba</td>\n",
       "    </tr>\n",
       "    <tr>\n",
       "      <th>630</th>\n",
       "      <td>Faya</td>\n",
       "    </tr>\n",
       "  </tbody>\n",
       "</table>\n",
       "<p>631 rows × 1 columns</p>\n",
       "</div>"
      ],
      "text/plain": [
       "             City\n",
       "0    Punta Arenas\n",
       "1     Barentsburg\n",
       "2       Esperance\n",
       "3     Yellowknife\n",
       "4       Busselton\n",
       "..            ...\n",
       "626   San Alberto\n",
       "627     Karasburg\n",
       "628    Lavrentiya\n",
       "629        Nyurba\n",
       "630          Faya\n",
       "\n",
       "[631 rows x 1 columns]"
      ]
     },
     "execution_count": 116,
     "metadata": {},
     "output_type": "execute_result"
    }
   ],
   "source": [
    "# city_test = [\"Denver\", \"Pittsburgh\"]\n",
    "# test_df = pd.DataFrame(city_test)\n",
    "# test_df\n",
    "\n",
    "cities_df = pd.DataFrame(cities_list)\n",
    "cities_df = cities_df.rename(columns={0: \"City\"})\n",
    "cities_df"
   ]
  },
  {
   "cell_type": "markdown",
   "metadata": {},
   "source": [
    "### Perform API Calls\n",
    "* Perform a weather check on each city using a series of successive API calls.\n",
    "* Include a print log of each city as it'sbeing processed (with the city number and city name).\n"
   ]
  },
  {
   "cell_type": "code",
   "execution_count": 48,
   "metadata": {},
   "outputs": [],
   "source": [
    "# Get: Temperature, Humidity, Cloudiness, Windspeed\n",
    "base_weather_url = \"http://api.openweathermap.org/data/2.5/weather?q=\"\n",
    "\n",
    "weather_data_dict = {}"
   ]
  },
  {
   "cell_type": "code",
   "execution_count": 63,
   "metadata": {
    "scrolled": true
   },
   "outputs": [
    {
     "name": "stdout",
     "output_type": "stream",
     "text": [
      "http://api.openweathermap.org/data/2.5/weather?q=Denver&appid=2d553e63a551d7ef27c92c3e368247d9&units=imperial\n",
      "{'base': 'stations',\n",
      " 'clouds': {'all': 75},\n",
      " 'cod': 200,\n",
      " 'coord': {'lat': 39.74, 'lon': -104.98},\n",
      " 'dt': 1603140891,\n",
      " 'id': 5419384,\n",
      " 'main': {'feels_like': 61.38,\n",
      "          'humidity': 21,\n",
      "          'pressure': 1015,\n",
      "          'temp': 69.42,\n",
      "          'temp_max': 71.6,\n",
      "          'temp_min': 68},\n",
      " 'name': 'Denver',\n",
      " 'sys': {'country': 'US',\n",
      "         'id': 3449,\n",
      "         'sunrise': 1603113285,\n",
      "         'sunset': 1603152868,\n",
      "         'type': 1},\n",
      " 'timezone': -21600,\n",
      " 'visibility': 10000,\n",
      " 'weather': [{'description': 'broken clouds',\n",
      "              'icon': '04d',\n",
      "              'id': 803,\n",
      "              'main': 'Clouds'}],\n",
      " 'wind': {'deg': 50, 'speed': 6.93}}\n",
      "http://api.openweathermap.org/data/2.5/weather?q=Pittsburgh&appid=2d553e63a551d7ef27c92c3e368247d9&units=imperial\n",
      "{'base': 'stations',\n",
      " 'clouds': {'all': 90},\n",
      " 'cod': 200,\n",
      " 'coord': {'lat': 40.44, 'lon': -80},\n",
      " 'dt': 1603141059,\n",
      " 'id': 5206379,\n",
      " 'main': {'feels_like': 52.75,\n",
      "          'humidity': 100,\n",
      "          'pressure': 1021,\n",
      "          'temp': 54.61,\n",
      "          'temp_max': 55.99,\n",
      "          'temp_min': 53.01},\n",
      " 'name': 'Pittsburgh',\n",
      " 'sys': {'country': 'US',\n",
      "         'id': 3247,\n",
      "         'sunrise': 1603107335,\n",
      "         'sunset': 1603146829,\n",
      "         'type': 1},\n",
      " 'timezone': -14400,\n",
      " 'visibility': 9656,\n",
      " 'weather': [{'description': 'mist', 'icon': '50d', 'id': 701, 'main': 'Mist'}],\n",
      " 'wind': {'deg': 160, 'speed': 5.82}}\n"
     ]
    }
   ],
   "source": [
    "for city in city_test:\n",
    "    time.sleep(1)\n",
    "    get_weather_url = base_weather_url + f\"{city}&appid={weather_api_key}&units=imperial\"\n",
    "    weather_request = requests.get(get_weather_url).json()\n",
    "    temp = weather_request[\"main\"][\"temp\"]\n",
    "    humid = weather_request[\"main\"][\"humidity\"]\n",
    "    weather_data_dict.update({f\"{city}\": {\"Temperature\": temp, \"Humidity\": humid}})\n",
    "    print(get_weather_url)\n",
    "    pprint(weather_request)"
   ]
  },
  {
   "cell_type": "code",
   "execution_count": 66,
   "metadata": {},
   "outputs": [
    {
     "data": {
      "text/html": [
       "<div>\n",
       "<style scoped>\n",
       "    .dataframe tbody tr th:only-of-type {\n",
       "        vertical-align: middle;\n",
       "    }\n",
       "\n",
       "    .dataframe tbody tr th {\n",
       "        vertical-align: top;\n",
       "    }\n",
       "\n",
       "    .dataframe thead th {\n",
       "        text-align: right;\n",
       "    }\n",
       "</style>\n",
       "<table border=\"1\" class=\"dataframe\">\n",
       "  <thead>\n",
       "    <tr style=\"text-align: right;\">\n",
       "      <th></th>\n",
       "      <th>Denver</th>\n",
       "      <th>Pittsburgh</th>\n",
       "    </tr>\n",
       "  </thead>\n",
       "  <tbody>\n",
       "    <tr>\n",
       "      <th>Temperature</th>\n",
       "      <td>69.42</td>\n",
       "      <td>54.61</td>\n",
       "    </tr>\n",
       "    <tr>\n",
       "      <th>Humidity</th>\n",
       "      <td>21.00</td>\n",
       "      <td>100.00</td>\n",
       "    </tr>\n",
       "  </tbody>\n",
       "</table>\n",
       "</div>"
      ],
      "text/plain": [
       "             Denver  Pittsburgh\n",
       "Temperature   69.42       54.61\n",
       "Humidity      21.00      100.00"
      ]
     },
     "execution_count": 66,
     "metadata": {},
     "output_type": "execute_result"
    }
   ],
   "source": [
    "weather_df = pd.DataFrame(weather_data_dict)\n",
    "weather_df"
   ]
  },
  {
   "cell_type": "markdown",
   "metadata": {},
   "source": [
    "### Convert Raw Data to DataFrame\n",
    "* Export the city data into a .csv.\n",
    "* Display the DataFrame"
   ]
  },
  {
   "cell_type": "code",
   "execution_count": null,
   "metadata": {},
   "outputs": [],
   "source": []
  },
  {
   "cell_type": "code",
   "execution_count": null,
   "metadata": {},
   "outputs": [],
   "source": []
  },
  {
   "cell_type": "markdown",
   "metadata": {},
   "source": [
    "## Inspect the data and remove the cities where the humidity > 100%.\n",
    "----\n",
    "Skip this step if there are no cities that have humidity > 100%. "
   ]
  },
  {
   "cell_type": "code",
   "execution_count": null,
   "metadata": {},
   "outputs": [],
   "source": []
  },
  {
   "cell_type": "code",
   "execution_count": null,
   "metadata": {},
   "outputs": [],
   "source": [
    "#  Get the indices of cities that have humidity over 100%.\n"
   ]
  },
  {
   "cell_type": "code",
   "execution_count": null,
   "metadata": {},
   "outputs": [],
   "source": [
    "# Make a new DataFrame equal to the city data to drop all humidity outliers by index.\n",
    "# Passing \"inplace=False\" will make a copy of the city_data DataFrame, which we call \"clean_city_data\".\n"
   ]
  },
  {
   "cell_type": "code",
   "execution_count": null,
   "metadata": {},
   "outputs": [],
   "source": [
    "\n"
   ]
  },
  {
   "cell_type": "markdown",
   "metadata": {},
   "source": [
    "## Plotting the Data\n",
    "* Use proper labeling of the plots using plot titles (including date of analysis) and axes labels.\n",
    "* Save the plotted figures as .pngs."
   ]
  },
  {
   "cell_type": "markdown",
   "metadata": {},
   "source": [
    "## Latitude vs. Temperature Plot"
   ]
  },
  {
   "cell_type": "code",
   "execution_count": null,
   "metadata": {
    "scrolled": true
   },
   "outputs": [],
   "source": []
  },
  {
   "cell_type": "markdown",
   "metadata": {},
   "source": [
    "## Latitude vs. Humidity Plot"
   ]
  },
  {
   "cell_type": "code",
   "execution_count": null,
   "metadata": {},
   "outputs": [],
   "source": []
  },
  {
   "cell_type": "markdown",
   "metadata": {},
   "source": [
    "## Latitude vs. Cloudiness Plot"
   ]
  },
  {
   "cell_type": "code",
   "execution_count": null,
   "metadata": {},
   "outputs": [],
   "source": []
  },
  {
   "cell_type": "markdown",
   "metadata": {},
   "source": [
    "## Latitude vs. Wind Speed Plot"
   ]
  },
  {
   "cell_type": "code",
   "execution_count": null,
   "metadata": {},
   "outputs": [],
   "source": []
  },
  {
   "cell_type": "markdown",
   "metadata": {},
   "source": [
    "## Linear Regression"
   ]
  },
  {
   "cell_type": "code",
   "execution_count": null,
   "metadata": {},
   "outputs": [],
   "source": []
  },
  {
   "cell_type": "markdown",
   "metadata": {},
   "source": [
    "####  Northern Hemisphere - Max Temp vs. Latitude Linear Regression"
   ]
  },
  {
   "cell_type": "code",
   "execution_count": null,
   "metadata": {},
   "outputs": [],
   "source": []
  },
  {
   "cell_type": "markdown",
   "metadata": {},
   "source": [
    "####  Southern Hemisphere - Max Temp vs. Latitude Linear Regression"
   ]
  },
  {
   "cell_type": "code",
   "execution_count": null,
   "metadata": {},
   "outputs": [],
   "source": []
  },
  {
   "cell_type": "markdown",
   "metadata": {},
   "source": [
    "####  Northern Hemisphere - Humidity (%) vs. Latitude Linear Regression"
   ]
  },
  {
   "cell_type": "code",
   "execution_count": null,
   "metadata": {},
   "outputs": [],
   "source": []
  },
  {
   "cell_type": "markdown",
   "metadata": {},
   "source": [
    "####  Southern Hemisphere - Humidity (%) vs. Latitude Linear Regression"
   ]
  },
  {
   "cell_type": "code",
   "execution_count": null,
   "metadata": {},
   "outputs": [],
   "source": []
  },
  {
   "cell_type": "markdown",
   "metadata": {},
   "source": [
    "####  Northern Hemisphere - Cloudiness (%) vs. Latitude Linear Regression"
   ]
  },
  {
   "cell_type": "code",
   "execution_count": null,
   "metadata": {},
   "outputs": [],
   "source": []
  },
  {
   "cell_type": "markdown",
   "metadata": {},
   "source": [
    "####  Southern Hemisphere - Cloudiness (%) vs. Latitude Linear Regression"
   ]
  },
  {
   "cell_type": "code",
   "execution_count": null,
   "metadata": {},
   "outputs": [],
   "source": []
  },
  {
   "cell_type": "markdown",
   "metadata": {},
   "source": [
    "####  Northern Hemisphere - Wind Speed (mph) vs. Latitude Linear Regression"
   ]
  },
  {
   "cell_type": "code",
   "execution_count": null,
   "metadata": {},
   "outputs": [],
   "source": []
  },
  {
   "cell_type": "markdown",
   "metadata": {},
   "source": [
    "####  Southern Hemisphere - Wind Speed (mph) vs. Latitude Linear Regression"
   ]
  },
  {
   "cell_type": "code",
   "execution_count": null,
   "metadata": {},
   "outputs": [],
   "source": []
  },
  {
   "cell_type": "code",
   "execution_count": null,
   "metadata": {},
   "outputs": [],
   "source": []
  }
 ],
 "metadata": {
  "anaconda-cloud": {},
  "kernel_info": {
   "name": "python3"
  },
  "kernelspec": {
   "display_name": "Python [conda env:PythonData] *",
   "language": "python",
   "name": "conda-env-PythonData-py"
  },
  "language_info": {
   "codemirror_mode": {
    "name": "ipython",
    "version": 3
   },
   "file_extension": ".py",
   "mimetype": "text/x-python",
   "name": "python",
   "nbconvert_exporter": "python",
   "pygments_lexer": "ipython3",
   "version": "3.7.1"
  },
  "latex_envs": {
   "LaTeX_envs_menu_present": true,
   "autoclose": false,
   "autocomplete": true,
   "bibliofile": "biblio.bib",
   "cite_by": "apalike",
   "current_citInitial": 1,
   "eqLabelWithNumbers": true,
   "eqNumInitial": 1,
   "hotkeys": {
    "equation": "Ctrl-E",
    "itemize": "Ctrl-I"
   },
   "labels_anchors": false,
   "latex_user_defs": false,
   "report_style_numbering": false,
   "user_envs_cfg": false
  },
  "nteract": {
   "version": "0.12.3"
  }
 },
 "nbformat": 4,
 "nbformat_minor": 2
}
