{
 "cells": [
  {
   "cell_type": "markdown",
   "metadata": {},
   "source": [
    "# WeatherPy\n",
    "----\n",
    "\n",
    "#### Note\n",
    "* Instructions have been included for each segment. You do not have to follow them exactly, but they are included to help you think through the steps."
   ]
  },
  {
   "cell_type": "code",
   "execution_count": 1,
   "metadata": {
    "scrolled": true
   },
   "outputs": [],
   "source": [
    "# Dependencies and Setup\n",
    "import matplotlib.pyplot as plt\n",
    "import pandas as pd\n",
    "import numpy as np\n",
    "import requests\n",
    "import time\n",
    "from scipy.stats import linregress\n",
    "from pprint import pprint\n",
    "from config import weather_api_key, gkey\n",
    "from citipy import citipy\n",
    "\n",
    "# Output File (CSV)\n",
    "output_data_file = \"output_data/cities.csv\"\n",
    "\n",
    "# Range of latitudes and longitudes\n",
    "lat_range = (-90, 90)\n",
    "lng_range = (-180, 180)"
   ]
  },
  {
   "cell_type": "markdown",
   "metadata": {},
   "source": [
    "## Generate Cities List"
   ]
  },
  {
   "cell_type": "code",
   "execution_count": 2,
   "metadata": {},
   "outputs": [
    {
     "data": {
      "text/plain": [
       "618"
      ]
     },
     "execution_count": 2,
     "metadata": {},
     "output_type": "execute_result"
    }
   ],
   "source": [
    "# List for holding lat_lngs and cities\n",
    "lat_lngs = []\n",
    "cities = []\n",
    "\n",
    "# Create a set of random lat and lng combinations\n",
    "lats = np.random.uniform(lat_range[0], lat_range[1], size=1500)\n",
    "lngs = np.random.uniform(lng_range[0], lng_range[1], size=1500)\n",
    "lat_lngs = zip(lats, lngs)\n",
    "\n",
    "# Identify nearest city for each lat, lng combination\n",
    "for lat_lng in lat_lngs:\n",
    "    city = citipy.nearest_city(lat_lng[0], lat_lng[1]).city_name\n",
    "    \n",
    "    # If the city is unique, then add it to a our cities list\n",
    "    if city not in cities:\n",
    "        cities.append(city)\n",
    "\n",
    "# Print the city count to confirm sufficient count\n",
    "len(cities)"
   ]
  },
  {
   "cell_type": "code",
   "execution_count": 3,
   "metadata": {},
   "outputs": [
    {
     "name": "stdout",
     "output_type": "stream",
     "text": [
      "['Coquimbo', 'Port Elizabeth', 'Hithadhoo', 'Veraval', 'Beloha', 'Atar', 'Khatanga', 'Airai', 'Illoqqortoormiut', 'Mys Shmidta', 'Butaritari', 'Busselton', 'Carnarvon', 'Punta Arenas', 'Bethel', 'Plettenberg Bay', 'Fortuna', 'Atyashevo', 'Maputo', 'Kapaa', 'Gunjur', 'Bara', 'Qena', 'Chokurdakh', 'Hermanus', 'Pevek', 'Alsfeld', 'Peleduy', 'Namatanai', 'Zelenoborsk', 'Alyangula', 'Olds', 'Bilibino', 'Albany', 'Georgetown', 'Kiunga', 'Aleksandrovka', 'Barrow', 'Sao Filipe', 'Snezhnogorsk', 'Avarua', 'Kaitangata', 'Malanje', 'Mehamn', 'Codrington', 'Ushuaia', 'Vila Franca Do Campo', 'Tuktoyaktuk', 'Nanakuli', 'Auki', 'Montepuez', 'Ullapool', 'Mataura', 'Mar Del Plata', 'Pereslavl-Zalesskiy', 'Alice Springs', 'Rikitea', 'Bud', 'Taolanaro', 'Puerto Ayora', 'Kruisfontein', 'Santa Catarina De Tepehuanes', 'Lagoa', 'Tasiilaq', 'Bluff', 'Saleaula', 'Kedrovoye', 'Windhoek', 'Saint-Leu', 'Pacific Grove', 'Arraial Do Cabo', 'Zhuhai', 'Perth', 'Maceio', 'Abu Samrah', 'Brae', 'Burica', 'Port Alfred', 'Vestmannaeyjar', 'Porto Walter', 'Castro', 'Cockburn Town', 'Paucartambo', 'Portland', 'Maarianhamina', 'Kaeo', 'Port-Cartier', 'Hasaki', 'Dikson', 'Gushikawa', 'Paamiut', 'Haifa', 'Lata', 'Manta', 'Ibra', 'Apac', 'Umzimvubu', 'Nasirabad', 'Puerto Escondido', 'East London', 'Yenagoa', 'Yellowknife', 'Severo-Kurilsk', 'Atuona', 'Sao Joao Dos Patos', 'Klaksvik', 'Dingle', 'Faanui', 'Sentyabrskiy', 'Kahului', 'Shunyi', 'Hirara', 'Mrirt', 'Leh', 'Tiksi', 'Mariental', 'Chumikan', 'West Plains', 'Gat', 'Tabiauea', 'Haines Junction', 'Husavik', 'Vaini', 'New Norfolk', 'Mamaku', 'Dhidhdhoo', 'Waipawa', 'Pathanamthitta', 'Barentsburg', 'Vila Velha', 'Simbahan', 'Fort Nelson', 'Caramoran', 'Mackenzie', 'Caarapo', 'Hobart', 'Sokoni', 'Kieta', 'San Quintin', 'Alagoinhas', 'Nome', 'Katsuura', 'Bima', 'Upernavik', 'Amderma', 'Pemangkat', 'Comodoro Rivadavia', 'Bredasdorp', 'Tandil', 'Strezhevoy', 'Prado', 'Behshahr', 'Lakes Entrance', 'Nova Olinda Do Norte', 'Arman', 'Changtu', 'Srednekolymsk', 'Kodiak', 'Ribeira Grande', 'Rocha', 'Hilo', 'Saint-Philippe', 'Cape Town', 'Ouesso', 'Foz Do Iguacu', 'Grand River South East', 'Alofi', 'Agadir', 'Bealanana', 'Luau', 'Fort Abbas', 'Souillac', 'Bengkulu', 'Pochutla', 'Awbari', 'Denpasar', 'Elizabeth City', 'Cabedelo', 'Lavrentiya', 'Saint-Georges', 'Barbar', 'Atambua', 'Narsaq', 'Noshiro', 'Joshimath', 'Kuala Terengganu', 'Buala', 'Basyanovskiy', 'Brawley', 'Iqaluit', 'Riyadh', 'Meyungs', 'Castro Alves', 'Guararema', 'Takoradi', 'Aasiaat', 'Kampot', 'Ilulissat', 'Piacabucu', 'Padang', 'Jamestown', 'Sidi Ali', 'Tornio', 'Vangazi', 'Bilma', 'Auka', 'Peterhead', 'Bambous Virieux', 'Yulara', 'Augustow', 'Nikolskoye', 'Jumla', 'Caconda', 'Canete', 'Port Macquarie', 'Arcata', 'Qui Nhon', 'Hamilton', 'Iguape', 'Erenhot', 'Santa Cruz De La Palma', 'Tumannyy', 'Singapore', 'Mont-Dore', 'Prince Rupert', 'Coihaique', 'Bagan', 'Anderson', 'Wulanhaote', 'Kirpilskaya', 'Ituni', 'Inhambane', 'Harqalah', 'Deputatskiy', 'Svodin', 'Jiddah', 'Rumphi', 'Belushya Guba', 'Yarim', 'Yegorlykskaya', 'Hihifo', 'Gladstone', 'Mundo Nuevo', 'Berlevag', 'Buchanan', 'Tukums', 'Leiva', 'Cayenne', 'Ponta Do Sol', 'Port Hardy', 'Guerrero Negro', 'Cabo San Lucas', 'Marystown', 'Kanigoro', 'Saint-Michel-Des-Saints', 'Kalmunai', 'Fosforitnyy', 'Tiznit', 'Annau', 'Vaitupu', 'Tupik', 'Zhigansk', 'Flin Flon', 'Asau', 'Ahuimanu', 'Geraldton', 'Roald', 'Saskylakh', 'Vikhorevka', 'Opuwo', 'Clyde River', 'Inta', 'Moengo', 'Plattsburgh', 'Tuatapere', 'Beringovskiy', 'San Cristobal', 'Salym', 'Luderitz', 'Dingli', 'Saint-Francois', 'Otane', 'Colares', 'Ahipara', 'Huanren', 'Lebu', 'Chuy', 'Rancho Palos Verdes', 'Ugoofaaru', 'Cidreira', 'Inirida', 'Port Hedland', 'Kozhva', 'Tres Arroyos', 'Nadym', 'Maunabo', 'Pangnirtung', 'Fort Frances', 'Ngukurr', 'Touho', 'Sangar', 'Narrabri', 'Mahebourg', 'Esperance', 'Korla', 'Saldanha', 'Toungoo', 'Shieli', 'Dalaba', 'Ulladulla', 'Zarakes', 'Batemans Bay', 'Laguna', 'Lorengau', 'Aksu', 'Roma', 'Wuwei', 'Susaki', 'Qorveh', 'Thompson', 'Karaul', 'Saint George', 'Wewak', 'Jacqueville', 'Ancud', 'Chapada Dos Guimaraes', 'Oum Hadjer', 'Verkh-Chebula', 'Batticaloa', 'Bairnsdale', 'College', 'La Crosse', 'Panjwin', 'Moron', 'Lompoc', 'Sinkat', 'Palabuhanratu', 'Kyabe', 'Saint-Joseph', 'Provideniya', 'Grand Gaube', 'Zyryanka', 'Adrar', 'Road Town', 'Plekhanovo', 'Obo', 'Rawson', 'Cassilandia', 'Raudeberg', 'Letlhakane', 'Sarangani', 'Virginia Beach', 'Hobyo', 'Esil', 'Saint-Pierre', 'Nauta', 'Isla Mujeres', 'Liyang', 'San Patricio', 'Manesti', 'Qaanaaq', 'Horsham', 'Luganville', 'Ybycui', 'Sao Joao Da Barra', 'Longyearbyen', 'Marigot', 'Hovd', 'Biak', 'Bac Lieu', 'Attawapiskat', 'Vardo', 'Tabatinga', 'Karkaralinsk', 'Yar-Sale', 'Amparafaravola', 'Morgan City', 'Bata', 'Ewa Beach', 'Omsukchan', 'Quatre Cocos', 'Wencheng', 'Gemena', 'Dunedin', 'Belmonte', 'Moerai', 'Bowen', 'La Ronge', 'Margate', 'Tadine', 'Aranos', 'Windsor', 'Marcona', 'Talnakh', 'Hami', 'Torbay', 'Vitim', 'Kloulklubed', 'Shirvan', 'Louisbourg', 'Balkhash', 'Grao Mogol', 'Sao Jose Da Coroa Grande', 'Kangasala', 'Killybegs', 'Sitka', 'Kitimat', 'Huarmey', 'Kawana Waters', 'Chanute', 'Nanortalik', 'Gorin', 'Poum', 'Laramie', 'Salalah', 'Qaqortoq', 'Namibe', 'Bull Savanna', 'Launceston', 'Havelock', 'Sorland', 'Nanhai', 'Phan Thiet', 'Nazare', 'Abalak', 'Cherskiy', 'Baringo', 'Chaman', 'Abnub', 'Corinto', 'Gongzhuling', 'Black River', 'Ostrovnoy', 'Panzhihua', 'Ajdabiya', 'Barawe', 'Tessalit', 'Nefteyugansk', 'Charters Towers', 'Mitsamiouli', 'Caravelas', 'Pisco', 'Marrakesh', 'Ende', 'Broome', 'Henties Bay', 'Tiruvottiyur', 'Marabba', 'Bayburt', 'Sistranda', 'Bahia Honda', 'Bay Roberts', 'Linxia', 'Rafaela', 'Cockburn Harbour', 'Dori', 'Sungaipenuh', 'Rockport', 'Inuvik', 'Axim', 'Camacha', 'Kautokeino', 'Jahrom', 'Odweyne', 'Vao', 'Dolbeau', 'Aklavik', 'Gorno-Chuyskiy', 'Yumen', 'Palmer', 'Hohhot', 'Alenquer', 'Faya', 'Olonets', 'Kudahuvadhoo', 'Opotiki', 'Cervo', 'Winnemucca', 'Aswan', 'Ilebo', 'Phoenix', 'Manoel Urbano', 'Anloga', 'Bandarbeyla', 'Amursk', 'Leningradskiy', 'Brigantine', 'Muros', 'Gwadar', 'Gamba', 'Tianpeng', 'Jalu', 'Grindavik', 'Khonuu', 'General Roca', 'The Pas', 'Santa Maria Del Oro', 'Mbandaka', 'Marion', 'Norman Wells', 'Verkhoyansk', 'Sibolga', 'Shingu', 'La Asuncion', 'Port-Gentil', 'San Clemente', 'Saint-Augustin', 'Elk City', 'Bonthe', 'Tautira', 'Aleksandrov Gay', 'Caxito', 'Zhuozhou', 'Chongwe', 'Vartej', 'Sabang', 'Aguimes', 'Bolungarvik', 'Krasnogorsk', 'Rio Cuarto', 'Naze', 'Amuntai', 'Pilar', 'Kavieng', 'Buraydah', 'Dongsheng', 'Samusu', 'Port Lincoln', 'Muheza', 'Gigmoto', 'Lakota', 'Biankouma', 'Mount Gambier', 'Tubruq', 'Atasu', 'Oriximina', 'Kalaleh', 'Qasigiannguit', 'Masoko', 'Tasbuget', 'Zhezkazgan', 'Sandwick', 'Lashio', 'Victoria', 'Chegdomyn', 'Sao Felix Do Xingu', 'Aba', 'Ishigaki', 'Afyonkarahisar', 'Lasa', 'Turtas', 'Caninde De Sao Francisco', 'Umtata', 'Skalistyy', 'Banda Aceh', 'Half Moon Bay', 'Chapais', 'Juybar', 'Cooma', 'Ust-Nera', 'Nizhniy Ufaley', 'Enshi', 'Ginir', 'Banjar', 'Luanda', 'Aanekoski', 'Kharp', 'Oktyabrskoye', 'Gaoual', 'Hervey Bay', 'Akdepe', 'Borogontsy', 'Salinopolis', 'Amherst', 'Ulaanbaatar', 'Sarh', 'Dodge City', 'Borovskoy', 'Nicoya', 'Hanmer Springs', 'Kill', 'Sinnamary', 'Port Moresby', 'Walvis Bay', 'Solnechnyy', 'Fort Smith', 'Cascais', 'Kontagora', 'Daxian', 'Huesca', 'Oksfjord', 'Egvekinot', 'Kinsale', 'Tithorea', 'Kawalu', 'Kirovskiy', 'Shkotovo-22', 'Praia', 'Gubkinskiy', 'Canto Do Buriti', 'Tabuk', 'Hofn', 'Constitucion', 'Monrovia', 'Oistins', 'Olafsvik', 'Alamosa', 'Viedma', 'Verkhnevilyuysk', 'Martapura', 'Young', 'Bambanglipuro', 'Teguldet', 'Forestville', 'Raghogarh', 'Okha', 'Taoudenni', 'Hambantota']\n"
     ]
    }
   ],
   "source": [
    "cities_list = []\n",
    "for city in cities: \n",
    "    cities_list.append(city.title())\n",
    "    \n",
    "print(cities_list)"
   ]
  },
  {
   "cell_type": "code",
   "execution_count": 4,
   "metadata": {},
   "outputs": [
    {
     "data": {
      "text/html": [
       "<div>\n",
       "<style scoped>\n",
       "    .dataframe tbody tr th:only-of-type {\n",
       "        vertical-align: middle;\n",
       "    }\n",
       "\n",
       "    .dataframe tbody tr th {\n",
       "        vertical-align: top;\n",
       "    }\n",
       "\n",
       "    .dataframe thead th {\n",
       "        text-align: right;\n",
       "    }\n",
       "</style>\n",
       "<table border=\"1\" class=\"dataframe\">\n",
       "  <thead>\n",
       "    <tr style=\"text-align: right;\">\n",
       "      <th></th>\n",
       "      <th>City</th>\n",
       "      <th>Temperature</th>\n",
       "      <th>Humidity</th>\n",
       "      <th>Cloudiness</th>\n",
       "      <th>Windspeed</th>\n",
       "    </tr>\n",
       "  </thead>\n",
       "  <tbody>\n",
       "    <tr>\n",
       "      <th>0</th>\n",
       "      <td>Coquimbo</td>\n",
       "      <td></td>\n",
       "      <td></td>\n",
       "      <td></td>\n",
       "      <td></td>\n",
       "    </tr>\n",
       "    <tr>\n",
       "      <th>1</th>\n",
       "      <td>Port Elizabeth</td>\n",
       "      <td></td>\n",
       "      <td></td>\n",
       "      <td></td>\n",
       "      <td></td>\n",
       "    </tr>\n",
       "    <tr>\n",
       "      <th>2</th>\n",
       "      <td>Hithadhoo</td>\n",
       "      <td></td>\n",
       "      <td></td>\n",
       "      <td></td>\n",
       "      <td></td>\n",
       "    </tr>\n",
       "    <tr>\n",
       "      <th>3</th>\n",
       "      <td>Veraval</td>\n",
       "      <td></td>\n",
       "      <td></td>\n",
       "      <td></td>\n",
       "      <td></td>\n",
       "    </tr>\n",
       "    <tr>\n",
       "      <th>4</th>\n",
       "      <td>Beloha</td>\n",
       "      <td></td>\n",
       "      <td></td>\n",
       "      <td></td>\n",
       "      <td></td>\n",
       "    </tr>\n",
       "    <tr>\n",
       "      <th>...</th>\n",
       "      <td>...</td>\n",
       "      <td>...</td>\n",
       "      <td>...</td>\n",
       "      <td>...</td>\n",
       "      <td>...</td>\n",
       "    </tr>\n",
       "    <tr>\n",
       "      <th>613</th>\n",
       "      <td>Forestville</td>\n",
       "      <td></td>\n",
       "      <td></td>\n",
       "      <td></td>\n",
       "      <td></td>\n",
       "    </tr>\n",
       "    <tr>\n",
       "      <th>614</th>\n",
       "      <td>Raghogarh</td>\n",
       "      <td></td>\n",
       "      <td></td>\n",
       "      <td></td>\n",
       "      <td></td>\n",
       "    </tr>\n",
       "    <tr>\n",
       "      <th>615</th>\n",
       "      <td>Okha</td>\n",
       "      <td></td>\n",
       "      <td></td>\n",
       "      <td></td>\n",
       "      <td></td>\n",
       "    </tr>\n",
       "    <tr>\n",
       "      <th>616</th>\n",
       "      <td>Taoudenni</td>\n",
       "      <td></td>\n",
       "      <td></td>\n",
       "      <td></td>\n",
       "      <td></td>\n",
       "    </tr>\n",
       "    <tr>\n",
       "      <th>617</th>\n",
       "      <td>Hambantota</td>\n",
       "      <td></td>\n",
       "      <td></td>\n",
       "      <td></td>\n",
       "      <td></td>\n",
       "    </tr>\n",
       "  </tbody>\n",
       "</table>\n",
       "<p>618 rows × 5 columns</p>\n",
       "</div>"
      ],
      "text/plain": [
       "               City Temperature Humidity Cloudiness Windspeed\n",
       "0          Coquimbo                                          \n",
       "1    Port Elizabeth                                          \n",
       "2         Hithadhoo                                          \n",
       "3           Veraval                                          \n",
       "4            Beloha                                          \n",
       "..              ...         ...      ...        ...       ...\n",
       "613     Forestville                                          \n",
       "614       Raghogarh                                          \n",
       "615            Okha                                          \n",
       "616       Taoudenni                                          \n",
       "617      Hambantota                                          \n",
       "\n",
       "[618 rows x 5 columns]"
      ]
     },
     "execution_count": 4,
     "metadata": {},
     "output_type": "execute_result"
    }
   ],
   "source": [
    "# Create the Empty DataFrame for the API Calls: Columns == Temperature, Humidity, Cloudiness, Windspeed\n",
    "\n",
    "cities_df = pd.DataFrame(cities_list)\n",
    "cities_df = cities_df.rename(columns={0: \"City\"})\n",
    "cities_df[\"Temperature\"] = \"\"\n",
    "cities_df[\"Humidity\"] = \"\"\n",
    "cities_df[\"Cloudiness\"] = \"\"\n",
    "cities_df[\"Windspeed\"] = \"\"\n",
    "cities_df"
   ]
  },
  {
   "cell_type": "markdown",
   "metadata": {},
   "source": [
    "### Perform API Calls\n",
    "* Perform a weather check on each city using a series of successive API calls.\n",
    "* Include a print log of each city as it'sbeing processed (with the city number and city name).\n"
   ]
  },
  {
   "cell_type": "code",
   "execution_count": null,
   "metadata": {},
   "outputs": [],
   "source": []
  },
  {
   "cell_type": "code",
   "execution_count": 5,
   "metadata": {},
   "outputs": [
    {
     "data": {
      "text/html": [
       "<div>\n",
       "<style scoped>\n",
       "    .dataframe tbody tr th:only-of-type {\n",
       "        vertical-align: middle;\n",
       "    }\n",
       "\n",
       "    .dataframe tbody tr th {\n",
       "        vertical-align: top;\n",
       "    }\n",
       "\n",
       "    .dataframe thead th {\n",
       "        text-align: right;\n",
       "    }\n",
       "</style>\n",
       "<table border=\"1\" class=\"dataframe\">\n",
       "  <thead>\n",
       "    <tr style=\"text-align: right;\">\n",
       "      <th></th>\n",
       "      <th>City</th>\n",
       "      <th>Temperature</th>\n",
       "      <th>Humidity</th>\n",
       "      <th>Cloudiness</th>\n",
       "      <th>Windspeed</th>\n",
       "    </tr>\n",
       "  </thead>\n",
       "  <tbody>\n",
       "    <tr>\n",
       "      <th>0</th>\n",
       "      <td>Punta Arenas</td>\n",
       "      <td></td>\n",
       "      <td></td>\n",
       "      <td></td>\n",
       "      <td></td>\n",
       "    </tr>\n",
       "  </tbody>\n",
       "</table>\n",
       "</div>"
      ],
      "text/plain": [
       "           City Temperature Humidity Cloudiness Windspeed\n",
       "0  Punta Arenas                                          "
      ]
     },
     "execution_count": 5,
     "metadata": {},
     "output_type": "execute_result"
    }
   ],
   "source": [
    "# Set the base ULR Get: Temperature, Humidity, Cloudiness, Windspeed\n",
    "base_weather_url = \"http://api.openweathermap.org/data/2.5/weather?q=\"\n",
    "\n",
    "# test city\n",
    "city_test = [\"Punta Arenas\"]\n",
    "cities_test_df = pd.DataFrame(city_test)\n",
    "cities_test_df = cities_test_df.rename(columns={0: \"City\"})\n",
    "cities_test_df[\"Temperature\"] = \"\"\n",
    "cities_test_df[\"Humidity\"] = \"\"\n",
    "cities_test_df[\"Cloudiness\"] = \"\"\n",
    "cities_test_df[\"Windspeed\"] = \"\"\n",
    "cities_test_df"
   ]
  },
  {
   "cell_type": "code",
   "execution_count": 21,
   "metadata": {
    "scrolled": true
   },
   "outputs": [
    {
     "name": "stdout",
     "output_type": "stream",
     "text": [
      "{'base': 'stations',\n",
      " 'clouds': {'all': 20},\n",
      " 'cod': 200,\n",
      " 'coord': {'lat': -53.15, 'lon': -70.92},\n",
      " 'dt': 1603144341,\n",
      " 'id': 3874787,\n",
      " 'main': {'feels_like': 19.74,\n",
      "          'humidity': 72,\n",
      "          'pressure': 1005,\n",
      "          'temp': 42.4,\n",
      "          'temp_max': 42.8,\n",
      "          'temp_min': 42.01},\n",
      " 'name': 'Punta Arenas',\n",
      " 'sys': {'country': 'CL',\n",
      "         'id': 8487,\n",
      "         'sunrise': 1603099616,\n",
      "         'sunset': 1603150190,\n",
      "         'type': 1},\n",
      " 'timezone': -10800,\n",
      " 'visibility': 10000,\n",
      " 'weather': [{'description': 'few clouds',\n",
      "              'icon': '02d',\n",
      "              'id': 801,\n",
      "              'main': 'Clouds'}],\n",
      " 'wind': {'deg': 260, 'speed': 34.45}}\n"
     ]
    }
   ],
   "source": [
    "#  for index, row in cities_pd.iterrows():\n",
    "\n",
    "for index, row in cities_test_df.iterrows():\n",
    "    time.sleep(1)\n",
    "    city = row[\"City\"]\n",
    "    get_weather_url = base_weather_url + f\"{city}&appid={weather_api_key}&units=imperial\"\n",
    "    weather_request = requests.get(get_weather_url).json()\n",
    "    temp = weather_request[\"main\"][\"temp\"]\n",
    "    humid = weather_request[\"main\"][\"humidity\"]\n",
    "    cloud = weather_request[\"clouds\"][\"all\"]\n",
    "    wind = weather_request[\"wind\"][\"speed\"]\n",
    "    pprint(weather_request)\n",
    "    \n",
    "    cities_test_df.loc[index, \"Temperature\"] = temp\n",
    "    cities_test_df.loc[index, \"Humidity\"] = humid\n",
    "    cities_test_df.loc[index, \"Cloudiness\"] = cloud\n",
    "    cities_test_df.loc[index, \"Windspeed\"] = wind"
   ]
  },
  {
   "cell_type": "code",
   "execution_count": 22,
   "metadata": {},
   "outputs": [
    {
     "data": {
      "text/html": [
       "<div>\n",
       "<style scoped>\n",
       "    .dataframe tbody tr th:only-of-type {\n",
       "        vertical-align: middle;\n",
       "    }\n",
       "\n",
       "    .dataframe tbody tr th {\n",
       "        vertical-align: top;\n",
       "    }\n",
       "\n",
       "    .dataframe thead th {\n",
       "        text-align: right;\n",
       "    }\n",
       "</style>\n",
       "<table border=\"1\" class=\"dataframe\">\n",
       "  <thead>\n",
       "    <tr style=\"text-align: right;\">\n",
       "      <th></th>\n",
       "      <th>City</th>\n",
       "      <th>Temperature</th>\n",
       "      <th>Humidity</th>\n",
       "      <th>Cloudiness</th>\n",
       "      <th>Windspeed</th>\n",
       "    </tr>\n",
       "  </thead>\n",
       "  <tbody>\n",
       "    <tr>\n",
       "      <th>0</th>\n",
       "      <td>Punta Arenas</td>\n",
       "      <td>42.4</td>\n",
       "      <td>72</td>\n",
       "      <td>20</td>\n",
       "      <td>34.45</td>\n",
       "    </tr>\n",
       "  </tbody>\n",
       "</table>\n",
       "</div>"
      ],
      "text/plain": [
       "           City Temperature Humidity Cloudiness Windspeed\n",
       "0  Punta Arenas        42.4       72         20     34.45"
      ]
     },
     "execution_count": 22,
     "metadata": {},
     "output_type": "execute_result"
    }
   ],
   "source": [
    "cities_test_df"
   ]
  },
  {
   "cell_type": "markdown",
   "metadata": {},
   "source": [
    "### Convert Raw Data to DataFrame\n",
    "* Export the city data into a .csv.\n",
    "* Display the DataFrame"
   ]
  },
  {
   "cell_type": "code",
   "execution_count": null,
   "metadata": {},
   "outputs": [],
   "source": []
  },
  {
   "cell_type": "code",
   "execution_count": null,
   "metadata": {},
   "outputs": [],
   "source": []
  },
  {
   "cell_type": "markdown",
   "metadata": {},
   "source": [
    "## Inspect the data and remove the cities where the humidity > 100%.\n",
    "----\n",
    "Skip this step if there are no cities that have humidity > 100%. "
   ]
  },
  {
   "cell_type": "code",
   "execution_count": null,
   "metadata": {},
   "outputs": [],
   "source": []
  },
  {
   "cell_type": "code",
   "execution_count": null,
   "metadata": {},
   "outputs": [],
   "source": [
    "#  Get the indices of cities that have humidity over 100%.\n"
   ]
  },
  {
   "cell_type": "code",
   "execution_count": null,
   "metadata": {},
   "outputs": [],
   "source": [
    "# Make a new DataFrame equal to the city data to drop all humidity outliers by index.\n",
    "# Passing \"inplace=False\" will make a copy of the city_data DataFrame, which we call \"clean_city_data\".\n"
   ]
  },
  {
   "cell_type": "code",
   "execution_count": null,
   "metadata": {},
   "outputs": [],
   "source": [
    "\n"
   ]
  },
  {
   "cell_type": "markdown",
   "metadata": {},
   "source": [
    "## Plotting the Data\n",
    "* Use proper labeling of the plots using plot titles (including date of analysis) and axes labels.\n",
    "* Save the plotted figures as .pngs."
   ]
  },
  {
   "cell_type": "markdown",
   "metadata": {},
   "source": [
    "## Latitude vs. Temperature Plot"
   ]
  },
  {
   "cell_type": "code",
   "execution_count": null,
   "metadata": {
    "scrolled": true
   },
   "outputs": [],
   "source": []
  },
  {
   "cell_type": "markdown",
   "metadata": {},
   "source": [
    "## Latitude vs. Humidity Plot"
   ]
  },
  {
   "cell_type": "code",
   "execution_count": null,
   "metadata": {},
   "outputs": [],
   "source": []
  },
  {
   "cell_type": "markdown",
   "metadata": {},
   "source": [
    "## Latitude vs. Cloudiness Plot"
   ]
  },
  {
   "cell_type": "code",
   "execution_count": null,
   "metadata": {},
   "outputs": [],
   "source": []
  },
  {
   "cell_type": "markdown",
   "metadata": {},
   "source": [
    "## Latitude vs. Wind Speed Plot"
   ]
  },
  {
   "cell_type": "code",
   "execution_count": null,
   "metadata": {},
   "outputs": [],
   "source": []
  },
  {
   "cell_type": "markdown",
   "metadata": {},
   "source": [
    "## Linear Regression"
   ]
  },
  {
   "cell_type": "code",
   "execution_count": null,
   "metadata": {},
   "outputs": [],
   "source": []
  },
  {
   "cell_type": "markdown",
   "metadata": {},
   "source": [
    "####  Northern Hemisphere - Max Temp vs. Latitude Linear Regression"
   ]
  },
  {
   "cell_type": "code",
   "execution_count": null,
   "metadata": {},
   "outputs": [],
   "source": []
  },
  {
   "cell_type": "markdown",
   "metadata": {},
   "source": [
    "####  Southern Hemisphere - Max Temp vs. Latitude Linear Regression"
   ]
  },
  {
   "cell_type": "code",
   "execution_count": null,
   "metadata": {},
   "outputs": [],
   "source": []
  },
  {
   "cell_type": "markdown",
   "metadata": {},
   "source": [
    "####  Northern Hemisphere - Humidity (%) vs. Latitude Linear Regression"
   ]
  },
  {
   "cell_type": "code",
   "execution_count": null,
   "metadata": {},
   "outputs": [],
   "source": []
  },
  {
   "cell_type": "markdown",
   "metadata": {},
   "source": [
    "####  Southern Hemisphere - Humidity (%) vs. Latitude Linear Regression"
   ]
  },
  {
   "cell_type": "code",
   "execution_count": null,
   "metadata": {},
   "outputs": [],
   "source": []
  },
  {
   "cell_type": "markdown",
   "metadata": {},
   "source": [
    "####  Northern Hemisphere - Cloudiness (%) vs. Latitude Linear Regression"
   ]
  },
  {
   "cell_type": "code",
   "execution_count": null,
   "metadata": {},
   "outputs": [],
   "source": []
  },
  {
   "cell_type": "markdown",
   "metadata": {},
   "source": [
    "####  Southern Hemisphere - Cloudiness (%) vs. Latitude Linear Regression"
   ]
  },
  {
   "cell_type": "code",
   "execution_count": null,
   "metadata": {},
   "outputs": [],
   "source": []
  },
  {
   "cell_type": "markdown",
   "metadata": {},
   "source": [
    "####  Northern Hemisphere - Wind Speed (mph) vs. Latitude Linear Regression"
   ]
  },
  {
   "cell_type": "code",
   "execution_count": null,
   "metadata": {},
   "outputs": [],
   "source": []
  },
  {
   "cell_type": "markdown",
   "metadata": {},
   "source": [
    "####  Southern Hemisphere - Wind Speed (mph) vs. Latitude Linear Regression"
   ]
  },
  {
   "cell_type": "code",
   "execution_count": null,
   "metadata": {},
   "outputs": [],
   "source": []
  },
  {
   "cell_type": "code",
   "execution_count": null,
   "metadata": {},
   "outputs": [],
   "source": []
  }
 ],
 "metadata": {
  "anaconda-cloud": {},
  "kernel_info": {
   "name": "python3"
  },
  "kernelspec": {
   "display_name": "Python [conda env:PythonData] *",
   "language": "python",
   "name": "conda-env-PythonData-py"
  },
  "language_info": {
   "codemirror_mode": {
    "name": "ipython",
    "version": 3
   },
   "file_extension": ".py",
   "mimetype": "text/x-python",
   "name": "python",
   "nbconvert_exporter": "python",
   "pygments_lexer": "ipython3",
   "version": "3.7.1"
  },
  "latex_envs": {
   "LaTeX_envs_menu_present": true,
   "autoclose": false,
   "autocomplete": true,
   "bibliofile": "biblio.bib",
   "cite_by": "apalike",
   "current_citInitial": 1,
   "eqLabelWithNumbers": true,
   "eqNumInitial": 1,
   "hotkeys": {
    "equation": "Ctrl-E",
    "itemize": "Ctrl-I"
   },
   "labels_anchors": false,
   "latex_user_defs": false,
   "report_style_numbering": false,
   "user_envs_cfg": false
  },
  "nteract": {
   "version": "0.12.3"
  }
 },
 "nbformat": 4,
 "nbformat_minor": 2
}
